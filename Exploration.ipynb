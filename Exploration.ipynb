{
 "cells": [
  {
   "cell_type": "code",
   "execution_count": 4,
   "metadata": {},
   "outputs": [
    {
     "data": {
      "text/plain": [
       "['dwh.cfg']"
      ]
     },
     "execution_count": 4,
     "metadata": {},
     "output_type": "execute_result"
    }
   ],
   "source": [
    "import boto3\n",
    "import configparser\n",
    "import psycopg2\n",
    "\n",
    "\n",
    "config = configparser.ConfigParser()\n",
    "config.read(\"dwh.cfg\")"
   ]
  },
  {
   "cell_type": "code",
   "execution_count": 5,
   "metadata": {},
   "outputs": [],
   "source": [
    "# Connect to database\n",
    "conn = psycopg2.connect(\"host={} dbname={} user={} password={} port={}\".format(*config['CLUSTER'].values()))\n",
    "cur = conn.cursor()\n"
   ]
  },
  {
   "cell_type": "code",
   "execution_count": 19,
   "metadata": {},
   "outputs": [
    {
     "data": {
      "text/plain": [
       "[(96,)]"
      ]
     },
     "execution_count": 19,
     "metadata": {},
     "output_type": "execute_result"
    }
   ],
   "source": [
    "# Number of users in the table\n",
    "cur.execute(\"select count(*) from Users\")\n",
    "cur.fetchall()\n"
   ]
  },
  {
   "cell_type": "code",
   "execution_count": 26,
   "metadata": {},
   "outputs": [
    {
     "data": {
      "text/plain": [
       "[(2, 'Jizelle', 'Benjamin', 'F', 'free'),\n",
       " (3, 'Isaac', 'Valdez', 'M', 'free'),\n",
       " (4, 'Alivia', 'Terrell', 'F', 'free'),\n",
       " (5, 'Elijah', 'Davis', 'M', 'free'),\n",
       " (6, 'Cecilia', 'Owens', 'F', 'free'),\n",
       " (7, 'Adelyn', 'Jordan', 'F', 'free'),\n",
       " (8, 'Kaylee', 'Summers', 'F', 'free'),\n",
       " (9, 'Wyatt', 'Scott', 'M', 'free'),\n",
       " (10, 'Sylvie', 'Cruz', 'F', 'free'),\n",
       " (11, 'Christian', 'Porter', 'F', 'free'),\n",
       " (12, 'Austin', 'Rosales', 'M', 'free'),\n",
       " (13, 'Ava', 'Robinson', 'F', 'free'),\n",
       " (14, 'Theodore', 'Harris', 'M', 'free'),\n",
       " (15, 'Lily', 'Koch', 'F', 'paid'),\n",
       " (16, 'Rylan', 'George', 'M', 'paid'),\n",
       " (17, 'Makinley', 'Jones', 'F', 'free'),\n",
       " (18, 'Jacob', 'Rogers', 'M', 'free'),\n",
       " (19, 'Zachary', 'Thomas', 'M', 'free'),\n",
       " (20, 'Aiden', 'Ramirez', 'M', 'paid'),\n",
       " (22, 'Sean', 'Wilson', 'F', 'free'),\n",
       " (23, 'Morris', 'Gilmore', 'M', 'free'),\n",
       " (24, 'Layla', 'Griffin', 'F', 'paid'),\n",
       " (25, 'Jayden', 'Graves', 'M', 'paid'),\n",
       " (26, 'Ryan', 'Smith', 'M', 'free'),\n",
       " (27, 'Carlos', 'Carter', 'M', 'free'),\n",
       " (28, 'Brantley', 'West', 'M', 'free'),\n",
       " (29, 'Jacqueline', 'Lynch', 'F', 'paid'),\n",
       " (30, 'Avery', 'Watkins', 'F', 'paid'),\n",
       " (32, 'Lily', 'Burns', 'F', 'free'),\n",
       " (33, 'Bronson', 'Harris', 'M', 'free'),\n",
       " (34, 'Evelin', 'Ayala', 'F', 'free'),\n",
       " (35, 'Molly', 'Taylor', 'F', 'free'),\n",
       " (36, 'Matthew', 'Jones', 'M', 'paid'),\n",
       " (37, 'Jordan', 'Hicks', 'F', 'free'),\n",
       " (38, 'Gianna', 'Jones', 'F', 'free'),\n",
       " (39, 'Walter', 'Frye', 'M', 'free'),\n",
       " (40, 'Tucker', 'Garrison', 'M', 'free'),\n",
       " (41, 'Brayden', 'Clark', 'M', 'free'),\n",
       " (42, 'Harper', 'Barrett', 'M', 'paid'),\n",
       " (43, 'Jahiem', 'Miles', 'M', 'free'),\n",
       " (44, 'Aleena', 'Kirby', 'F', 'paid'),\n",
       " (45, 'Dominick', 'Norris', 'M', 'free'),\n",
       " (47, 'Kimber', 'Norris', 'F', 'free'),\n",
       " (48, 'Marina', 'Sutton', 'F', 'free'),\n",
       " (49, 'Chloe', 'Cuevas', 'F', 'paid'),\n",
       " (50, 'Ava', 'Robinson', 'F', 'free'),\n",
       " (51, 'Maia', 'Burke', 'F', 'free'),\n",
       " (52, 'Theodore', 'Smith', 'M', 'free'),\n",
       " (53, 'Celeste', 'Williams', 'F', 'free'),\n",
       " (54, 'Kaleb', 'Cook', 'M', 'free'),\n",
       " (55, 'Martin', 'Johnson', 'M', 'free'),\n",
       " (56, 'Cienna', 'Freeman', 'F', 'free'),\n",
       " (57, 'Katherine', 'Gay', 'F', 'free'),\n",
       " (58, 'Emily', 'Benson', 'F', 'paid'),\n",
       " (59, 'Lily', 'Cooper', 'F', 'free'),\n",
       " (60, 'Devin', 'Larson', 'M', 'free'),\n",
       " (61, 'Samuel', 'Gonzalez', 'M', 'free'),\n",
       " (62, 'Connar', 'Moreno', 'M', 'free'),\n",
       " (63, 'Ayla', 'Johnson', 'F', 'free'),\n",
       " (64, 'Hannah', 'Calhoun', 'F', 'free'),\n",
       " (65, 'Amiya', 'Davidson', 'F', 'paid'),\n",
       " (66, 'Kevin', 'Arellano', 'M', 'free'),\n",
       " (67, 'Colm', 'Santana', 'M', 'free'),\n",
       " (68, 'Jordan', 'Rodriguez', 'F', 'free'),\n",
       " (69, 'Anabelle', 'Simpson', 'F', 'free'),\n",
       " (70, 'Jaleah', 'Hayes', 'F', 'paid'),\n",
       " (71, 'Ayleen', 'Wise', 'F', 'free'),\n",
       " (72, 'Hayden', 'Brock', 'F', 'paid'),\n",
       " (73, 'Jacob', 'Klein', 'M', 'paid'),\n",
       " (74, 'Braden', 'Parker', 'M', 'free'),\n",
       " (75, 'Joseph', 'Gutierrez', 'M', 'free'),\n",
       " (76, 'Jayden', 'Duffy', 'F', 'free'),\n",
       " (77, 'Magdalene', 'Herman', 'F', 'free'),\n",
       " (78, 'Chloe', 'Roth', 'F', 'free'),\n",
       " (79, 'James', 'Martin', 'M', 'free'),\n",
       " (80, 'Tegan', 'Levine', 'F', 'paid'),\n",
       " (81, 'Sienna', 'Colon', 'F', 'free'),\n",
       " (82, 'Avery', 'Martinez', 'F', 'paid'),\n",
       " (83, 'Stefany', 'White', 'F', 'free'),\n",
       " (84, 'Shakira', 'Hunt', 'F', 'free'),\n",
       " (85, 'Kinsley', 'Young', 'F', 'paid'),\n",
       " (86, 'Aiden', 'Hess', 'M', 'free'),\n",
       " (87, 'Dustin', 'Lee', 'M', 'free'),\n",
       " (88, 'Mohammad', 'Rodriguez', 'M', 'paid'),\n",
       " (89, 'Kynnedi', 'Sanchez', 'F', 'free'),\n",
       " (90, 'Andrea', 'Butler', 'F', 'free'),\n",
       " (91, 'Jayden', 'Bell', 'M', 'free'),\n",
       " (92, 'Ryann', 'Smith', 'F', 'free'),\n",
       " (94, 'Noah', 'Chavez', 'M', 'free'),\n",
       " (95, 'Sara', 'Johnson', 'F', 'paid'),\n",
       " (96, 'Cierra', 'Finley', 'F', 'free'),\n",
       " (97, 'Kate', 'Harrell', 'F', 'paid'),\n",
       " (98, 'Jordyn', 'Powell', 'F', 'free'),\n",
       " (99, 'Ann', 'Banks', 'F', 'free'),\n",
       " (100, 'Adler', 'Barrera', 'M', 'free'),\n",
       " (101, 'Jayden', 'Fox', 'M', 'free')]"
      ]
     },
     "execution_count": 26,
     "metadata": {},
     "output_type": "execute_result"
    }
   ],
   "source": [
    "# selecting all the users ordered by user_id\n",
    "cur.execute(\"select * from users order by user_id\")\n",
    "cur.fetchall()"
   ]
  },
  {
   "cell_type": "code",
   "execution_count": 27,
   "metadata": {},
   "outputs": [
    {
     "data": {
      "text/plain": [
       "[(14896,)]"
      ]
     },
     "execution_count": 27,
     "metadata": {},
     "output_type": "execute_result"
    }
   ],
   "source": [
    "# selecting all the users ordered by user_id\n",
    "cur.execute(\"select count(*) from songs\")\n",
    "cur.fetchall()"
   ]
  },
  {
   "cell_type": "code",
   "execution_count": null,
   "metadata": {},
   "outputs": [],
   "source": []
  }
 ],
 "metadata": {
  "kernelspec": {
   "display_name": "Python 3",
   "language": "python",
   "name": "python3"
  },
  "language_info": {
   "codemirror_mode": {
    "name": "ipython",
    "version": 3
   },
   "file_extension": ".py",
   "mimetype": "text/x-python",
   "name": "python",
   "nbconvert_exporter": "python",
   "pygments_lexer": "ipython3",
   "version": "3.6.3"
  }
 },
 "nbformat": 4,
 "nbformat_minor": 2
}
